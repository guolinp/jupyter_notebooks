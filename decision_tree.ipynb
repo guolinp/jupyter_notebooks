{
 "cells": [
  {
   "cell_type": "code",
   "execution_count": 61,
   "metadata": {},
   "outputs": [],
   "source": [
    "# https://www.ritchieng.com/machine-learning-decision-trees\n",
    "\n",
    "# Import\n",
    "import random\n",
    "\n",
    "from sklearn.tree import DecisionTreeClassifier\n",
    "from sklearn.cross_validation import train_test_split\n",
    "from sklearn import metrics\n",
    "\n",
    "# Load iris dataset\n",
    "from sklearn.datasets import load_iris\n",
    "\n",
    "iris = load_iris()\n",
    "x = iris.data\n",
    "y = iris.target\n",
    "\n",
    "#x=[]\n",
    "#y=[]\n",
    "#for i in range(100):\n",
    "#    _x = [random.randint(0,1) for _ in range(2)]\n",
    "#    _y = sum(_x)\n",
    "#    x.append(_x)\n",
    "#    y.append(_y)\n",
    "#\n",
    "\n",
    "# Split data, 4:1\n",
    "x_train, x_test, y_train, y_test = train_test_split(x, y, random_state=0)"
   ]
  },
  {
   "cell_type": "code",
   "execution_count": 62,
   "metadata": {},
   "outputs": [
    {
     "name": "stdout",
     "output_type": "stream",
     "text": [
      "accuracy: 0.973684210526\n",
      "[2 1 0 2 0 2 0 1 1 1 2 1 1 1 1 0 1 1 0 0 2 1 0 0 2 0 0 1 1 0 2 1 0 2 2 1 0\n",
      " 2]\n",
      "[2 1 0 2 0 2 0 1 1 1 2 1 1 1 1 0 1 1 0 0 2 1 0 0 2 0 0 1 1 0 2 1 0 2 2 1 0\n",
      " 1]\n"
     ]
    }
   ],
   "source": [
    "# 1. Instantiate with min_samples_split = 4\n",
    "dtc = DecisionTreeClassifier(min_samples_split=4, random_state=0)\n",
    "\n",
    "# 2. Fit\n",
    "dtc.fit(x_train, y_train)\n",
    "\n",
    "# 3. Predict, there're 4 features in the iris dataset\n",
    "y_pred_class = dtc.predict(x_test)\n",
    "\n",
    "# Accuracy\n",
    "accuracy_score = metrics.accuracy_score(y_test, y_pred_class)\n",
    "print(\"accuracy: {}\".format(accuracy_score))\n",
    "print y_pred_class\n",
    "print y_test"
   ]
  },
  {
   "cell_type": "code",
   "execution_count": null,
   "metadata": {},
   "outputs": [],
   "source": []
  }
 ],
 "metadata": {
  "kernelspec": {
   "display_name": "Python 2",
   "language": "python",
   "name": "python2"
  },
  "language_info": {
   "codemirror_mode": {
    "name": "ipython",
    "version": 2
   },
   "file_extension": ".py",
   "mimetype": "text/x-python",
   "name": "python",
   "nbconvert_exporter": "python",
   "pygments_lexer": "ipython2",
   "version": "2.7.12"
  }
 },
 "nbformat": 4,
 "nbformat_minor": 2
}
