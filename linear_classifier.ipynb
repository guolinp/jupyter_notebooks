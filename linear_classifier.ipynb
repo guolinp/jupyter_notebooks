{
 "cells": [
  {
   "cell_type": "code",
   "execution_count": 65,
   "metadata": {},
   "outputs": [],
   "source": [
    "import random\n",
    "\n",
    "def calc_class(x1, x2):\n",
    "    r = 0.1 * x1 + 0.2 * x2 - 0.5\n",
    "    return 1 if r > 1 else 0\n",
    "\n",
    "\n",
    "def mkdataset(filename, start, stop, num):\n",
    "    x1 = [random.randrange(start, stop) for i in range(num)]\n",
    "    x2 = [random.randrange(start, stop) for i in range(num)]\n",
    "\n",
    "    with open(filename, 'w') as f:\n",
    "        f.writelines(\"X1,X2,Y\\n\")\n",
    "        for i in range(num):\n",
    "            f.writelines(\"%d,%d,%d\\n\" % (x1[i], x2[i], calc_class(x1[i], x2[i])))\n",
    "\n",
    "mkdataset(\"data.csv\", 0, 10, 200)\n",
    "mkdataset(\"test.csv\", 1, 8, 100)"
   ]
  },
  {
   "cell_type": "code",
   "execution_count": 66,
   "metadata": {},
   "outputs": [
    {
     "name": "stdout",
     "output_type": "stream",
     "text": [
      "step:    0, w1=0.23379779, w2=0.18910787, b=-0.02692059, loss=2.50901222\n",
      "step:  100, w1=0.01212080, w2=0.11135787, b=-0.10796274, loss=0.07832701\n",
      "step:  200, w1=0.01622294, w2=0.11522222, b=-0.15068792, loss=0.07460484\n",
      "step:  300, w1=0.01963454, w2=0.11838905, b=-0.18597451, loss=0.07206593\n",
      "step:  400, w1=0.02245218, w2=0.12100450, b=-0.21511753, loss=0.07033414\n",
      "step:  500, w1=0.02477926, w2=0.12316458, b=-0.23918660, loss=0.06915286\n",
      "step:  600, w1=0.02670119, w2=0.12494860, b=-0.25906524, loss=0.06834712\n",
      "step:  700, w1=0.02828850, w2=0.12642203, b=-0.27548298, loss=0.06779751\n",
      "step:  800, w1=0.02959945, w2=0.12763889, b=-0.28904212, loss=0.06742263\n",
      "step:  900, w1=0.03068217, w2=0.12864390, b=-0.30024064, loss=0.06716691\n"
     ]
    }
   ],
   "source": [
    "import tensorflow as tf  \n",
    "import pandas as pd  \n",
    "\n",
    "train = pd.read_csv('data.csv')\n",
    "test = pd.read_csv('test.csv')\n",
    "\n",
    "x_train = np.float32(train[['X1', 'X2']].T)  \n",
    "y_train = np.float32(train['Y'].T)  \n",
    "  \n",
    "x_test = np.float32(test[['X1', 'X2']].T)  \n",
    "y_test = np.float32(test['Y'].T)  \n",
    "  \n",
    "b = tf.Variable(tf.zeros([1]))\n",
    "w = tf.Variable(tf.random_uniform([1, 2]))\n",
    "  \n",
    "y = tf.matmul(w, x_train) + b  \n",
    "  \n",
    "loss = tf.reduce_mean(tf.square(y - y_train))  \n",
    "  \n",
    "optimizer = tf.train.GradientDescentOptimizer(0.005)  \n",
    "train = optimizer.minimize(loss)  \n",
    "  \n",
    "sess = tf.Session()  \n",
    "sess.run(tf.global_variables_initializer())  \n",
    "  \n",
    "for step in range(0, 1000):  \n",
    "    sess.run(train)\n",
    "    if step % 100 == 0:\n",
    "        curr_w = sess.run(w)\n",
    "        curr_b = sess.run(b)\n",
    "        curr_loss = sess.run(loss)\n",
    "        print('step: %4d, w1=%.8f, w2=%.8f, b=%.8f, loss=%.8f' % (step, curr_w[0][0], curr_w[0][1], curr_b, curr_loss))"
   ]
  },
  {
   "cell_type": "code",
   "execution_count": 67,
   "metadata": {},
   "outputs": [
    {
     "data": {
      "image/png": "[encoded data removed]",
      "text/plain": [
       "<Figure size 432x288 with 1 Axes>"
      ]
     },
     "metadata": {},
     "output_type": "display_data"
    }
   ],
   "source": [
    "import matplotlib.pyplot as plt \n",
    "\n",
    "test_negative = test.loc[test['Y']==0][['X1', 'X2']]\n",
    "test_positive = test.loc[test['Y']==1][['X1', 'X2']]  \n",
    "\n",
    "plt.scatter(test_negative['X1'], test_negative['X2'], marker='o', s=100, c='red')  \n",
    "plt.scatter(test_positive['X1'], test_positive['X2'], marker='x', s=100, c='black')  \n",
    "\n",
    "plt.xlabel('X1')  \n",
    "plt.ylabel('X2')  \n",
    "\n",
    "# w1*x + w2*y + b = 0.5 => y = (0.5 - b - w1*x) / w2  \n",
    "line_x = np.arange(0, 11)  \n",
    "line_y = (0.5 - sess.run(b) - lx*sess.run(w)[0][0]) / sess.run(w)[0][1]\n",
    "\n",
    "plt.plot(line_x, line_y, color='green')  \n",
    "plt.show() "
   ]
  },
  {
   "cell_type": "code",
   "execution_count": null,
   "metadata": {},
   "outputs": [],
   "source": []
  },
  {
   "cell_type": "code",
   "execution_count": null,
   "metadata": {},
   "outputs": [],
   "source": []
  }
 ],
 "metadata": {
  "kernelspec": {
   "display_name": "Python 2",
   "language": "python",
   "name": "python2"
  },
  "language_info": {
   "codemirror_mode": {
    "name": "ipython",
    "version": 2
   },
   "file_extension": ".py",
   "mimetype": "text/x-python",
   "name": "python",
   "nbconvert_exporter": "python",
   "pygments_lexer": "ipython2",
   "version": "2.7.12"
  }
 },
 "nbformat": 4,
 "nbformat_minor": 2
}
