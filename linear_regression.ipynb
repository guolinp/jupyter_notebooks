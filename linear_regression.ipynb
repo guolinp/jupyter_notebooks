{
 "cells": [
  {
   "cell_type": "code",
   "execution_count": 31,
   "metadata": {},
   "outputs": [],
   "source": [
    "# debug options\n",
    "\n",
    "train_steps = 2000\n",
    "learning_rate = 0.08\n",
    "expected_cost = 0.00000000001"
   ]
  },
  {
   "cell_type": "code",
   "execution_count": 32,
   "metadata": {},
   "outputs": [],
   "source": [
    "# create train data\n",
    "\n",
    "import numpy as np\n",
    "\n",
    "train_x_1 = np.random.random(100)\n",
    "train_x_2 = np.random.random(100)\n",
    "\n",
    "# y = 0.1*x1 + 0.2*x2 + 0.3\n",
    "train_y = 0.1 * train_x_1 + 0.2 * train_x_2 + 0.3\n",
    "\n",
    "# print train_x_1\n",
    "# print train_x_2\n",
    "# print train_y"
   ]
  },
  {
   "cell_type": "code",
   "execution_count": 33,
   "metadata": {},
   "outputs": [
    {
     "name": "stdout",
     "output_type": "stream",
     "text": [
      "step 0    : cost=0.0259354598820210\n",
      "step 100  : cost=0.0018495419062674\n",
      "step 200  : cost=0.0003116244624835\n",
      "step 300  : cost=0.0000629038913758\n",
      "step 400  : cost=0.0000133800485855\n",
      "step 500  : cost=0.0000028833778742\n",
      "step 600  : cost=0.0000006233206022\n",
      "step 700  : cost=0.0000001348380323\n",
      "step 800  : cost=0.0000000291741777\n",
      "step 900  : cost=0.0000000063123373\n",
      "step 1000 : cost=0.0000000013671724\n",
      "step 1100 : cost=0.0000000002967545\n",
      "step 1200 : cost=0.0000000000647451\n",
      "step 1300 : cost=0.0000000000143611\n",
      "step 1325 : cost=0.0000000000099569  <-- OK\n",
      "train done: w1=0.100009, w2=0.200008, b=0.299992\n"
     ]
    }
   ],
   "source": [
    "import tensorflow as tf\n",
    "\n",
    "w1 = tf.Variable(tf.random_uniform([1]))\n",
    "w2 = tf.Variable(tf.random_uniform([1]))\n",
    "b  = tf.Variable(tf.zeros([1]))\n",
    "\n",
    "y = w1 * train_x_1 + w2 * train_x_2 + b\n",
    "\n",
    "cost = tf.reduce_mean(tf.square(y - train_y))\n",
    "optimizer = tf.train.GradientDescentOptimizer(learning_rate)\n",
    "\n",
    "train = optimizer.minimize(cost)\n",
    "\n",
    "sess = tf.Session()\n",
    "sess.run(tf.global_variables_initializer())\n",
    "\n",
    "for i in range(train_steps):\n",
    "    sess.run(train)\n",
    "    curr_cost = sess.run(cost)\n",
    "    if i % 100 == 0:\n",
    "        print 'step %-5d: cost=%.16f' % (i, curr_cost)\n",
    "    if curr_cost < expected_cost:\n",
    "        print 'step %-5d: cost=%.16f  <-- OK' % (i, curr_cost)\n",
    "        break\n",
    "\n",
    "curr_w1 = sess.run(w1)  # expected: 0.1\n",
    "curr_w2 = sess.run(w2)  # expected: 0.2\n",
    "curr_b  = sess.run(b)   # expected: 0.3\n",
    "print 'train done: w1=%f, w2=%f, b=%f' % (curr_w1, curr_w2, curr_b)"
   ]
  },
  {
   "cell_type": "code",
   "execution_count": 34,
   "metadata": {},
   "outputs": [
    {
     "name": "stdout",
     "output_type": "stream",
     "text": [
      "predict - real = 2.3000717163085938 - 2.2999999999999998 = 0.0000717163085939 (0.0031 %)\n",
      "predict - real = 2.6000883579254150 - 2.6000000000000001 = 0.0000883579254150 (0.0034 %)\n",
      "predict - real = 2.9001047611236572 - 2.9000000000000004 = 0.0001047611236569 (0.0036 %)\n",
      "predict - real = 3.2001214027404785 - 3.2000000000000002 = 0.0001214027404783 (0.0038 %)\n",
      "predict - real = 3.5001378059387207 - 3.5000000000000000 = 0.0001378059387207 (0.0039 %)\n",
      "predict - real = 3.8001544475555420 - 3.7999999999999998 = 0.0001544475555422 (0.0041 %)\n",
      "predict - real = 4.1001710891723633 - 4.1000000000000005 = 0.0001710891723627 (0.0042 %)\n",
      "predict - real = 4.4001874923706055 - 4.4000000000000004 = 0.0001874923706051 (0.0043 %)\n",
      "predict - real = 4.7002038955688477 - 4.7000000000000002 = 0.0002038955688475 (0.0043 %)\n",
      "predict - real = 5.0002202987670898 - 5.0000000000000000 = 0.0002202987670898 (0.0044 %)\n"
     ]
    }
   ],
   "source": [
    "# predict test\n",
    "x1 = np.array(range(0, 10))   # [0, 1, 2, ..., 9]\n",
    "x2 = np.array(range(10, 20))  # [10, 11, 12, ..., 19]\n",
    "y = w1 * x1 + w2 * x2 + b\n",
    "predict_y = sess.run(y)\n",
    "\n",
    "for i in range(len(x1)):\n",
    "    real_y = 0.1 * x1[i] + 0.2 * x2[i] + 0.3\n",
    "    diff = predict_y[i] - real_y\n",
    "    percentage = 100 * diff / real_y\n",
    "    print 'predict - real = %.16f - %.16f = %.16f (%.4f %%)' % (predict_y[i], real_y, diff, percentage)"
   ]
  },
  {
   "cell_type": "code",
   "execution_count": null,
   "metadata": {},
   "outputs": [],
   "source": []
  }
 ],
 "metadata": {
  "kernelspec": {
   "display_name": "Python 2",
   "language": "python",
   "name": "python2"
  },
  "language_info": {
   "codemirror_mode": {
    "name": "ipython",
    "version": 2
   },
   "file_extension": ".py",
   "mimetype": "text/x-python",
   "name": "python",
   "nbconvert_exporter": "python",
   "pygments_lexer": "ipython2",
   "version": "2.7.12"
  }
 },
 "nbformat": 4,
 "nbformat_minor": 2
}
